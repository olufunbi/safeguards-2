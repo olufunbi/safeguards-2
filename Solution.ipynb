{
 "cells": [
  {
   "cell_type": "code",
   "execution_count": 1,
   "id": "afa5290c",
   "metadata": {},
   "outputs": [
    {
     "name": "stdout",
     "output_type": "stream",
     "text": [
      "\u001b[33mDEPRECATION: Configuring installation scheme with distutils config files is deprecated and will no longer work in the near future. If you are using a Homebrew or Linuxbrew Python, please see discussion at https://github.com/Homebrew/homebrew-core/issues/76621\u001b[0m\u001b[33m\n",
      "\u001b[0mCollecting bitarray\n",
      "  Downloading bitarray-2.6.0-cp39-cp39-macosx_11_0_arm64.whl (104 kB)\n",
      "\u001b[2K     \u001b[90m━━━━━━━━━━━━━━━━━━━━━━━━━━━━━━━━━━━━━━━\u001b[0m \u001b[32m104.5/104.5 kB\u001b[0m \u001b[31m2.9 MB/s\u001b[0m eta \u001b[36m0:00:00\u001b[0m\n",
      "\u001b[?25hInstalling collected packages: bitarray\n",
      "\u001b[33m  DEPRECATION: Configuring installation scheme with distutils config files is deprecated and will no longer work in the near future. If you are using a Homebrew or Linuxbrew Python, please see discussion at https://github.com/Homebrew/homebrew-core/issues/76621\u001b[0m\u001b[33m\n",
      "\u001b[0m\u001b[33mDEPRECATION: Configuring installation scheme with distutils config files is deprecated and will no longer work in the near future. If you are using a Homebrew or Linuxbrew Python, please see discussion at https://github.com/Homebrew/homebrew-core/issues/76621\u001b[0m\u001b[33m\n",
      "\u001b[0mSuccessfully installed bitarray-2.6.0\n",
      "\u001b[33mWARNING: There was an error checking the latest version of pip.\u001b[0m\u001b[33m\n",
      "\u001b[0mNote: you may need to restart the kernel to use updated packages.\n"
     ]
    }
   ],
   "source": [
    "pip install bitarray"
   ]
  },
  {
   "cell_type": "code",
   "execution_count": 10,
   "id": "d4b11ac0",
   "metadata": {},
   "outputs": [
    {
     "name": "stdout",
     "output_type": "stream",
     "text": [
      "\n",
      "Lifeguard number 2420 could be removed with less impact on coverage\n",
      "Maximum time coverage after removing one lifeguard : 40284653\n",
      "\n"
     ]
    }
   ],
   "source": [
    "import sys\n",
    "from bitarray import bitarray\n",
    "# 0 : t0 - t1, 1 : t1 - t2, so on...\n",
    "guard_avail_t = 1000000000 * bitarray('0')\n",
    "redundant_avail_t = 1000000000 * bitarray('0')\n",
    "\n",
    "def prepare_data(lines):\n",
    "\n",
    "    global redundant_avail_t\n",
    "    global guard_avail_t\n",
    "    temp_buf = 1000000000 * bitarray('0')\n",
    "    count = 1\n",
    "    \n",
    "    for line in lines:\n",
    "        t_slot = line.strip().split(' ')\n",
    "        start = int(t_slot[0])\n",
    "        end = int(t_slot[1])\n",
    "   \n",
    "        #print (\"start %d end %d\" %(start, end))\n",
    "        # Mark availability\n",
    "        temp_buf[:] = 0\n",
    "        temp_buf[start:end] = 1\n",
    "\n",
    "        # check duplicate and maintain redundant time slots\n",
    "        redundant_avail_t = redundant_avail_t | (guard_avail_t & temp_buf)\n",
    "\n",
    "        # Update cumulative guard available slots\n",
    "        guard_avail_t = guard_avail_t | temp_buf\n",
    "\n",
    "        #print(\"guard num %d\" %count)\n",
    "        count += 1\n",
    "\n",
    "\n",
    "\n",
    "def func(lines):\n",
    "    global redundant_avail_t\n",
    "    global guard_avail_t\n",
    "    min_impact = sys.maxsize\n",
    "    min_imp_guard_id = 0\n",
    "    guard_id = 0\n",
    "\n",
    "    for line in lines:\n",
    "        t_slot = line.strip().split(' ')\n",
    "        start = int(t_slot[0])\n",
    "        end = int(t_slot[1])\n",
    "        impact = 0 \n",
    "        # check for impact if removed\n",
    "        impact = redundant_avail_t[start:end].count(0)\n",
    "\n",
    "        if impact < min_impact:\n",
    "            min_impact = impact\n",
    "            min_imp_guard_id = guard_id\n",
    "\n",
    "        guard_id += 1\n",
    "\n",
    "    print (\"\\nLifeguard number %d could be removed with less impact on coverage\" %(min_imp_guard_id+1))\n",
    "\n",
    "    # remove min impact guard id time coverage\n",
    "    t_slot = lines[min_imp_guard_id].strip().split(' ')\n",
    "    start = int(t_slot[0])\n",
    "    end = int(t_slot[1])\n",
    "\n",
    "    guard_avail_t[start:end] = guard_avail_t[start:end] & redundant_avail_t[start:end]\n",
    "\n",
    "    # calculate time coverage after firing min impactful lifeguard\n",
    "    return guard_avail_t.count(1)\n",
    "\n",
    "\n",
    "def main():\n",
    "    # main driver function\n",
    "    # replace path below with path to each of your input files\n",
    "    with open('1.in', 'r') as my_file:\n",
    "        lines = my_file.readlines()\n",
    "\n",
    "    guard_count = lines[0]\n",
    "    lines.pop(0)\n",
    "\n",
    "    # process realtime input and prepare compute easy data\n",
    "    prepare_data(lines)\n",
    "\n",
    "    # identify the guard with least impact on time coverage on firing.\n",
    "    result = func(lines)\n",
    "    print (\"Maximum time coverage after removing one lifeguard : %d\\n\" % result)\n",
    "\n",
    "    # replace the integer 10 below with the appropriate value\n",
    "    f = open(\"ans.out\", \"a\")\n",
    "    f.write(str(result))\n",
    "    f.close()\n",
    "\n",
    "\n",
    "if __name__ == \"__main__\":\n",
    "    main()"
   ]
  }
 ],
 "metadata": {
  "kernelspec": {
   "display_name": "Python 3 (ipykernel)",
   "language": "python",
   "name": "python3"
  },
  "language_info": {
   "codemirror_mode": {
    "name": "ipython",
    "version": 3
   },
   "file_extension": ".py",
   "mimetype": "text/x-python",
   "name": "python",
   "nbconvert_exporter": "python",
   "pygments_lexer": "ipython3",
   "version": "3.9.13"
  },
  "vscode": {
   "interpreter": {
    "hash": "b0fa6594d8f4cbf19f97940f81e996739fb7646882a419484c72d19e05852a7e"
   }
  }
 },
 "nbformat": 4,
 "nbformat_minor": 5
}
